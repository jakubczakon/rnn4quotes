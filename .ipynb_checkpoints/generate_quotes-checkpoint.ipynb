{
 "cells": [
  {
   "cell_type": "code",
   "execution_count": 43,
   "metadata": {
    "collapsed": false
   },
   "outputs": [],
   "source": [
    "import os\n",
    "\n",
    "from random import sample\n",
    "from ipywidgets import interact\n",
    "\n",
    "from sklearn.externals import joblib\n",
    "\n",
    "from keras.models import load_model"
   ]
  },
  {
   "cell_type": "code",
   "execution_count": 44,
   "metadata": {
    "collapsed": false
   },
   "outputs": [],
   "source": [
    "max_len = 20\n",
    "MODEL_FILEPATH = os.path.join(\"models\",\"quote_rnn.h5\")\n",
    "DICT_FILEPATH = os.path.join(\"models\",\"quote_helper_dicts.pkl\")\n",
    "\n",
    "quote_rnn = load_model(MODEL_FILEPATH)\n",
    "text2label,label2text = joblib.load(DICT_FILEPATH)"
   ]
  },
  {
   "cell_type": "code",
   "execution_count": 46,
   "metadata": {
    "collapsed": false
   },
   "outputs": [
    {
     "name": "stdout",
     "output_type": "stream",
     "text": [
      "Your Text | Suggestion\n"
     ]
    },
    {
     "ename": "NameError",
     "evalue": "global name 'inputs' is not defined",
     "output_type": "error",
     "traceback": [
      "\u001b[0;31m---------------------------------------------------------------------------\u001b[0m",
      "\u001b[0;31mNameError\u001b[0m                                 Traceback (most recent call last)",
      "\u001b[0;32m<ipython-input-46-6ade81789f59>\u001b[0m in \u001b[0;36mpropose_continuation\u001b[0;34m(text, n, k)\u001b[0m\n\u001b[1;32m      5\u001b[0m         \u001b[0mprediction_option\u001b[0m \u001b[0;34m=\u001b[0m \u001b[0;34m\"\"\u001b[0m\u001b[0;34m\u001b[0m\u001b[0m\n\u001b[1;32m      6\u001b[0m         \u001b[0;32mfor\u001b[0m \u001b[0m_\u001b[0m \u001b[0;32min\u001b[0m \u001b[0mrange\u001b[0m\u001b[0;34m(\u001b[0m\u001b[0mn\u001b[0m\u001b[0;34m)\u001b[0m\u001b[0;34m:\u001b[0m\u001b[0;34m\u001b[0m\u001b[0m\n\u001b[0;32m----> 7\u001b[0;31m             \u001b[0mX\u001b[0m \u001b[0;34m=\u001b[0m \u001b[0mnp\u001b[0m\u001b[0;34m.\u001b[0m\u001b[0mzeros\u001b[0m\u001b[0;34m(\u001b[0m\u001b[0;34m(\u001b[0m\u001b[0mlen\u001b[0m\u001b[0;34m(\u001b[0m\u001b[0minputs\u001b[0m\u001b[0;34m)\u001b[0m\u001b[0;34m,\u001b[0m \u001b[0mmax_len\u001b[0m\u001b[0;34m,\u001b[0m \u001b[0mlen\u001b[0m\u001b[0;34m(\u001b[0m\u001b[0mlabels\u001b[0m\u001b[0;34m)\u001b[0m\u001b[0;34m)\u001b[0m\u001b[0;34m)\u001b[0m\u001b[0;34m\u001b[0m\u001b[0m\n\u001b[0m\u001b[1;32m      8\u001b[0m             \u001b[0;32mfor\u001b[0m \u001b[0mi\u001b[0m\u001b[0;34m,\u001b[0m \u001b[0mexample\u001b[0m \u001b[0;32min\u001b[0m \u001b[0menumerate\u001b[0m\u001b[0;34m(\u001b[0m\u001b[0mtext4predict\u001b[0m\u001b[0;34m)\u001b[0m\u001b[0;34m:\u001b[0m\u001b[0;34m\u001b[0m\u001b[0m\n\u001b[1;32m      9\u001b[0m                 \u001b[0;32mfor\u001b[0m \u001b[0mt\u001b[0m\u001b[0;34m,\u001b[0m \u001b[0mlabel\u001b[0m \u001b[0;32min\u001b[0m \u001b[0menumerate\u001b[0m\u001b[0;34m(\u001b[0m\u001b[0mexample\u001b[0m\u001b[0;34m)\u001b[0m\u001b[0;34m:\u001b[0m\u001b[0;34m\u001b[0m\u001b[0m\n",
      "\u001b[0;31mNameError\u001b[0m: global name 'inputs' is not defined"
     ]
    },
    {
     "data": {
      "text/plain": [
       "<function __main__.propose_continuation>"
      ]
     },
     "execution_count": 46,
     "metadata": {},
     "output_type": "execute_result"
    }
   ],
   "source": [
    "def propose_continuation(text,n=10,k=5):\n",
    "    print \"Your Text | Suggestion\"\n",
    "    for _ in range(k):\n",
    "        text4predict = text[:max_len]\n",
    "        prediction_option = \"\"\n",
    "        for _ in range(n):        \n",
    "            X = np.zeros((len(text4predict), max_len, len(labels)))\n",
    "            for i, example in enumerate(text4predict):\n",
    "                for t, label in enumerate(example):\n",
    "                    X[i, t, text2label[label]] = 1\n",
    "            y = quote_rnn.predict(X)\n",
    "            predicted_letter = label2text(y)\n",
    "            prediction_option  = prediction_option + predicted_letter\n",
    "            text4predict = text4predict + predicted_letter\n",
    "            text4predict = text4predict[1:]\n",
    "        print \"%s | %s\"%(text,prediction_option)       \n",
    "interact(propose_continuation,text = \"some smart maths\")"
   ]
  },
  {
   "cell_type": "code",
   "execution_count": 34,
   "metadata": {
    "collapsed": true
   },
   "outputs": [],
   "source": []
  },
  {
   "cell_type": "code",
   "execution_count": 35,
   "metadata": {
    "collapsed": false
   },
   "outputs": [
    {
     "name": "stdout",
     "output_type": "stream",
     "text": [
      "Your Text / Suggestion\n",
      "some smart ma / 2fe3ifio83\n",
      "some smart ma / g2addsi29i\n",
      "some smart ma / rg9afo0m9p\n",
      "some smart ma / 39siaafs32\n",
      "some smart ma / 0i2bm9ig2w\n",
      "some smart ma / raz3ab9sav\n"
     ]
    }
   ],
   "source": []
  }
 ],
 "metadata": {
  "anaconda-cloud": {},
  "kernelspec": {
   "display_name": "Python [conda env:tf_py2_cpu]",
   "language": "python",
   "name": "conda-env-tf_py2_cpu-py"
  },
  "language_info": {
   "codemirror_mode": {
    "name": "ipython",
    "version": 2
   },
   "file_extension": ".py",
   "mimetype": "text/x-python",
   "name": "python",
   "nbconvert_exporter": "python",
   "pygments_lexer": "ipython2",
   "version": "2.7.12"
  },
  "widgets": {
   "state": {
    "679d27e590f74ea982e28cedb0bab52d": {
     "views": [
      {
       "cell_index": 2
      }
     ]
    },
    "a13c5ac445d94067bb074f1470ba7d6a": {
     "views": [
      {
       "cell_index": 2
      }
     ]
    }
   },
   "version": "1.2.0"
  }
 },
 "nbformat": 4,
 "nbformat_minor": 1
}
