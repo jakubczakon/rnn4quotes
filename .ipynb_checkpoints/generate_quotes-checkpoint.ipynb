{
 "cells": [
  {
   "cell_type": "code",
   "execution_count": 2,
   "metadata": {
    "collapsed": false
   },
   "outputs": [],
   "source": [
    "import os\n",
    "\n",
    "import numpy as np\n",
    "\n",
    "from random import sample\n",
    "from ipywidgets import interact\n",
    "\n",
    "from sklearn.externals import joblib\n",
    "\n",
    "from keras.models import load_model"
   ]
  },
  {
   "cell_type": "code",
   "execution_count": 3,
   "metadata": {
    "collapsed": false
   },
   "outputs": [],
   "source": [
    "max_len = 20\n",
    "MODEL_FILEPATH = os.path.join(\"models\",\"quote_rnn.h5\")\n",
    "DICT_FILEPATH = os.path.join(\"models\",\"quote_helper_dicts.pkl\")\n",
    "\n",
    "quote_rnn = load_model(MODEL_FILEPATH)\n",
    "text2label,label2text = joblib.load(DICT_FILEPATH)"
   ]
  },
  {
   "cell_type": "code",
   "execution_count": 4,
   "metadata": {
    "collapsed": false
   },
   "outputs": [
    {
     "name": "stdout",
     "output_type": "stream",
     "text": [
      "{u'\\u2014': 0, u'\\u2019': 1, u'!': 2, u' ': 3, u'\\xa3': 4, u'\"': 5, u'%': 6, u'$': 7, u\"'\": 8, u'&': 9, u')': 10, u'(': 11, u'+': 12, u'*': 13, u'-': 14, u',': 15, u'/': 16, u'.': 17, u'1': 18, u'0': 19, u'3': 20, u'2': 21, u'5': 22, u'4': 23, u'7': 24, u'6': 25, u'9': 26, u'8': 27, u';': 28, u':': 29, u'=': 30, u'?': 31, u'A': 32, u'C': 33, u'B': 34, u'E': 35, u'D': 36, u'G': 37, u'F': 38, u'I': 39, u'H': 40, u'K': 41, u'J': 42, u'M': 43, u'L': 44, u'O': 45, u'N': 46, u'Q': 47, u'P': 48, u'S': 49, u'R': 50, u'U': 51, u'T': 52, u'W': 53, u'V': 54, u'Y': 55, u'X': 56, u'Z': 57, u'#': 58, u'a': 59, u'c': 60, u'b': 61, u'e': 62, u'd': 63, u'g': 64, u'f': 65, u'i': 66, u'h': 67, u'k': 68, u'j': 69, u'm': 70, u'l': 71, u'o': 72, u'n': 73, u'q': 74, u'p': 75, u's': 76, u'r': 77, u'u': 78, u't': 79, u'w': 80, u'v': 81, u'y': 82, u'x': 83, u'z': 84}\n"
     ]
    }
   ],
   "source": [
    "print text2label"
   ]
  },
  {
   "cell_type": "code",
   "execution_count": 8,
   "metadata": {
    "collapsed": false
   },
   "outputs": [
    {
     "name": "stdout",
     "output_type": "stream",
     "text": [
      "Your Text | Suggestion\n",
      "behind every great chicken |   e t     e  r    e            e t    a           \n",
      "behind every great chicken |    we              r  e           a           e   \n",
      "behind every great chicken |         f             r te   t           ee       \n"
     ]
    },
    {
     "data": {
      "text/plain": [
       "<function __main__.propose_continuation>"
      ]
     },
     "execution_count": 8,
     "metadata": {},
     "output_type": "execute_result"
    }
   ],
   "source": [
    "def propose_continuation(text,n='50',k='3',temp='0.35'):\n",
    "    n = int(n)\n",
    "    k = int(k)\n",
    "    temp = float(temp)\n",
    "    \n",
    "    print \"Your Text | Suggestion\"\n",
    "    \n",
    "    for _ in range(k):\n",
    "        text4predict = text[:max_len]\n",
    "        prediction_option = \"\"\n",
    "        \n",
    "        for _ in range(n):        \n",
    "            # text2vector \n",
    "            X = np.zeros((1, max_len, len(label2text)))\n",
    "            for t, label in enumerate(text4predict):\n",
    "                X[0, t, text2label[label]] = 1\n",
    "                \n",
    "            y = quote_rnn.predict(X)[0]\n",
    "            \n",
    "            #insert randomness\n",
    "            y = np.log(y)/temp\n",
    "            y = np.exp(y)/np.sum(np.exp(y))\n",
    "            choices = range(len(y))\n",
    "            y = np.random.choice(choices, p=y)            \n",
    "            \n",
    "            predicted_letter = label2text[y]\n",
    "            prediction_option  = prediction_option + predicted_letter\n",
    "            text4predict = text4predict + predicted_letter\n",
    "            text4predict = text4predict[1:]\n",
    "        print \"%s | %s\"%(text,prediction_option)       \n",
    "interact(propose_continuation,text = u'behind every great chicken')"
   ]
  },
  {
   "cell_type": "code",
   "execution_count": null,
   "metadata": {
    "collapsed": true
   },
   "outputs": [],
   "source": []
  }
 ],
 "metadata": {
  "anaconda-cloud": {},
  "kernelspec": {
   "display_name": "Python [conda env:tf_py2_cpu]",
   "language": "python",
   "name": "conda-env-tf_py2_cpu-py"
  },
  "language_info": {
   "codemirror_mode": {
    "name": "ipython",
    "version": 2
   },
   "file_extension": ".py",
   "mimetype": "text/x-python",
   "name": "python",
   "nbconvert_exporter": "python",
   "pygments_lexer": "ipython2",
   "version": "2.7.12"
  },
  "widgets": {
   "state": {
    "d849092f5b8c4afb837d2109fd9c6ca0": {
     "views": [
      {
       "cell_index": 3
      }
     ]
    }
   },
   "version": "1.2.0"
  }
 },
 "nbformat": 4,
 "nbformat_minor": 1
}
