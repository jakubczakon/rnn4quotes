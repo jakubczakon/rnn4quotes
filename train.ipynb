{
 "cells": [
  {
   "cell_type": "code",
   "execution_count": 17,
   "metadata": {
    "collapsed": false,
    "scrolled": true
   },
   "outputs": [],
   "source": [
    "import os\n",
    "import re\n",
    "\n",
    "import random\n",
    "import numpy as np\n",
    "\n",
    "from sklearn.model_selection import train_test_split\n",
    "from sklearn.externals import joblib\n",
    "\n",
    "from keras.models import Model \n",
    "from keras.layers.recurrent import LSTM\n",
    "from keras.layers import Input, Dense, Dropout\n",
    "from keras.callbacks import ModelCheckpoint,Callback"
   ]
  },
  {
   "cell_type": "code",
   "execution_count": 18,
   "metadata": {
    "collapsed": false
   },
   "outputs": [
    {
     "name": "stdout",
     "output_type": "stream",
     "text": [
      "If you live to be a hundred, I want to live to be a hundred minus one day so I never have to live without you.\n",
      "Promise me you'll always remember: You're braver than you believe, and stronger than you seem, and smarter than you think.\n",
      "Did you ever stop to think, and forget to start again?\n",
      "Organizing is what you do before you do something, so that when you do it, it is not all mixed up.\n",
      "Weeds are flowers too, once you get to know them.\n",
      "You can't stay in your corner of the forest waiting for others to come to you. You have to go to them sometimes.\n",
      "The third-rate mind is only happy when it is thinking with the majority. The second-rate mind is only happy when it is thinking with the minority. The first-rate mind is only happy when it is thinking.\n"
     ]
    }
   ],
   "source": [
    "data = open(os.path.join(\"data\",\"Quotables\",\"author-quote.txt\"), 'ra').read()\n",
    "data = data.decode(\"utf-8\")\n",
    "\n",
    "data = re.split(r\"[\\t\\n]\", data)[1::2]\n",
    "for i,d in enumerate(data):\n",
    "    print d\n",
    "    if i>5:\n",
    "        break\n",
    "\n",
    "data = \" \".join(data)     \n",
    "labels = list(set(data))\n",
    "\n",
    "max_len = 20\n",
    "nr_classes = len(labels)\n",
    "MODEL_FILEPATH = os.path.join(\"models\",\"quote_rnn.h5\")\n",
    "DICT_FILEPATH = os.path.join(\"models\",\"quote_helper_dicts.pkl\")\n",
    "\n",
    "text2label = {t:i for i, t in enumerate(labels)}\n",
    "label2text = {i:t for i, t in enumerate(labels)}\n",
    "joblib.dump((text2label,label2text),DICT_FILEPATH)\n",
    "\n",
    "data = data[:1000]"
   ]
  },
  {
   "cell_type": "code",
   "execution_count": 19,
   "metadata": {
    "collapsed": false
   },
   "outputs": [],
   "source": [
    "step = 3\n",
    "inputs,outputs = [], []\n",
    "for i in range(0, len(data) - max_len, step):\n",
    "    inputs.append(data[i:i+max_len])\n",
    "    outputs.append(data[i+max_len])\n",
    "\n",
    "X = np.zeros((len(inputs), max_len, len(label2text)))\n",
    "y = np.zeros((len(inputs), len(label2text)))\n",
    "\n",
    "for i, example in enumerate(inputs):\n",
    "    for t, label in enumerate(example):\n",
    "        X[i, t, text2label[label]] = 1\n",
    "    y[i, text2label[outputs[i]]] = 1\n",
    "    \n",
    "X_train,X_valid,y_train,y_valid = train_test_split(X,y,train_size = 0.8, \n",
    "                                                   random_state = 1234) "
   ]
  },
  {
   "cell_type": "code",
   "execution_count": 20,
   "metadata": {
    "collapsed": false
   },
   "outputs": [],
   "source": [
    "text_input = Input(shape=(max_len, nr_classes))\n",
    "x = LSTM(64, return_sequences=True)(text_input)\n",
    "x = Dropout(0.2)(x)\n",
    "x = LSTM(64, return_sequences=False)(x)\n",
    "x = Dropout(0.2)(x)\n",
    "text_output = Dense(nr_classes,activation='softmax')(x)\n",
    "\n",
    "char_rnn_model = Model(text_input,text_output)\n",
    "char_rnn_model.compile(loss='categorical_crossentropy', optimizer='adam')"
   ]
  },
  {
   "cell_type": "code",
   "execution_count": 21,
   "metadata": {
    "collapsed": false
   },
   "outputs": [
    {
     "name": "stdout",
     "output_type": "stream",
     "text": [
      "Train on 261 samples, validate on 66 samples\n",
      "Epoch 1/10\n",
      "261/261 [==============================] - 3s - loss: 4.4505 - val_loss: 4.4000\n",
      "Epoch 2/10\n",
      "261/261 [==============================] - 1s - loss: 4.3954 - val_loss: 4.3388\n",
      "Epoch 3/10\n",
      "261/261 [==============================] - 1s - loss: 4.3257 - val_loss: 4.2451\n",
      "Epoch 4/10\n",
      "261/261 [==============================] - 1s - loss: 4.2158 - val_loss: 4.1009\n",
      "Epoch 5/10\n",
      "261/261 [==============================] - 1s - loss: 4.0847 - val_loss: 3.9177\n",
      "Epoch 6/10\n",
      "261/261 [==============================] - 1s - loss: 3.9099 - val_loss: 3.7518\n",
      "Epoch 7/10\n",
      "261/261 [==============================] - 1s - loss: 3.7487 - val_loss: 3.6139\n",
      "Epoch 8/10\n",
      "261/261 [==============================] - 1s - loss: 3.6210 - val_loss: 3.4937\n",
      "Epoch 9/10\n",
      "261/261 [==============================] - 1s - loss: 3.4859 - val_loss: 3.3915\n",
      "Epoch 10/10\n",
      "261/261 [==============================] - 1s - loss: 3.3687 - val_loss: 3.3144\n"
     ]
    },
    {
     "data": {
      "text/plain": [
       "<keras.callbacks.History at 0x7fa672320fd0>"
      ]
     },
     "execution_count": 21,
     "metadata": {},
     "output_type": "execute_result"
    }
   ],
   "source": [
    "checkpoint = ModelCheckpoint(filepath=MODEL_FILEPATH,monitor='val_loss', verbose=0, \n",
    "                             save_best_only=True, save_weights_only=False, mode='auto')\n",
    "\n",
    "char_rnn_model.fit(X_train, y_train,\n",
    "                   validation_data = [X_valid,y_valid],\n",
    "                   batch_size=128, \n",
    "                   nb_epoch=10,\n",
    "                   callbacks = [checkpoint])"
   ]
  },
  {
   "cell_type": "code",
   "execution_count": null,
   "metadata": {
    "collapsed": true
   },
   "outputs": [],
   "source": []
  }
 ],
 "metadata": {
  "kernelspec": {
   "display_name": "Python [conda env:tf_py2_cpu]",
   "language": "python",
   "name": "conda-env-tf_py2_cpu-py"
  },
  "language_info": {
   "codemirror_mode": {
    "name": "ipython",
    "version": 2
   },
   "file_extension": ".py",
   "mimetype": "text/x-python",
   "name": "python",
   "nbconvert_exporter": "python",
   "pygments_lexer": "ipython2",
   "version": "2.7.12"
  }
 },
 "nbformat": 4,
 "nbformat_minor": 1
}
